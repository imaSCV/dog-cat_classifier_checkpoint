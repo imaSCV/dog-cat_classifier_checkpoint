{
 "cells": [
  {
   "cell_type": "code",
   "execution_count": 3,
   "id": "6ed5cbed",
   "metadata": {},
   "outputs": [
    {
     "name": "stdout",
     "output_type": "stream",
     "text": [
      "请确保在以下目录中添加图片:\n",
      "训练集目录: C:\\Users\\86138\\Shenjin_network\\photo\\train\\cat\n",
      "\n",
      "Found 25000 images belonging to 2 classes.\n",
      "Found 25000 images belonging to 2 classes.\n"
     ]
    }
   ],
   "source": [
    "import os\n",
    "import numpy as np\n",
    "import keras\n",
    "from keras import layers\n",
    "from tensorflow import data as tf_data\n",
    "# import matplotlib.pyplot as plt\n",
    "import tensorflow as tf  # 添加这行\n",
    "\n",
    "from keras.preprocessing.image import ImageDataGenerator\n",
    "\n",
    "# 定义训练集和验证集的目录\n",
    "cat_dir = 'C:\\\\Users\\\\86138\\\\Shenjin_network\\\\photo\\\\train\\\\cat'\n",
    "dog_dir = 'C:\\\\Users\\\\86138\\\\Shenjin_network\\\\photo\\\\train\\\\dog'\n",
    "# os.makedirs(cat_dir, exist_ok=True)\n",
    "# os.makedirs(dog_dir, exist_ok=True)\n",
    "\n",
    "base_dir = 'C:/Users/86138/Shenjin_network/photo'\n",
    "train_dir = base_dir+'/train'\n",
    "validation_dir =  base_dir+'/validation'\n",
    "\n",
    "# 创建目录（如果不存在）\n",
    "# os.makedirs(train_dir, exist_ok=True)\n",
    "# os.makedirs(validation_dir, exist_ok=True)\n",
    "\n",
    "# 提示用户添加图片到目录\n",
    "print(f\"请确保在以下目录中添加图片:\\n训练集目录: {cat_dir}\\n\")\n",
    "\n",
    "# 创建 ImageDataGenerator 实例，并进行数据增强和归一化\n",
    "train_datagen = ImageDataGenerator(\n",
    "    rescale=1.0/255,  # 将像素值归一化到 [0, 1]\n",
    "    rotation_range=40,  # 随机旋转角度\n",
    "    width_shift_range=0.2,  # 水平平移\n",
    "    height_shift_range=0.2,  # 垂直平移\n",
    "    shear_range=0.2,  # 随机错切变换\n",
    "    zoom_range=0.2,  # 随机缩放\n",
    "    horizontal_flip=True,  # 随机水平翻转\n",
    "    fill_mode='nearest'  # 填充方式\n",
    ")\n",
    "\n",
    "validation_datagen = ImageDataGenerator(rescale=1.0/255)  # 验证集只进行归一化\n",
    "\n",
    "# 加载训练集和验证集\n",
    "train_generator = train_datagen.flow_from_directory(\n",
    "    train_dir,\n",
    "    target_size=(150, 150),  # 调整图像大小\n",
    "    batch_size=32,\n",
    "    class_mode='binary'  # 二分类\n",
    ")\n",
    "\n",
    "validation_generator = validation_datagen.flow_from_directory(\n",
    "     validation_dir,\n",
    "     target_size=(150, 150),\n",
    "     batch_size=32,\n",
    "     class_mode='binary'\n",
    " )\n"
   ]
  },
  {
   "cell_type": "code",
   "execution_count": null,
   "id": "e20e467f",
   "metadata": {},
   "outputs": [],
   "source": [
    "import shutil  # Import shutil module\n",
    "\n",
    "cat_dir = 'C:\\\\Users\\\\86138\\\\Shenjin_network\\\\photo\\\\train\\\\cat'\n",
    "dog_dir = 'C:\\\\Users\\\\86138\\\\Shenjin_network\\\\photo\\\\train\\\\dog'\n",
    "# os.makedirs(cat_dir, exist_ok=True)\n",
    "# os.makedirs(dog_dir, exist_ok=True)\n",
    "\n",
    "base_dir = 'C:/Users/86138/Shenjin_network/photo'\n",
    "train_dir = base_dir+'/train/train'\n",
    "\n",
    "prefix1 = \"cat\"\n",
    "prefix2 = \"dog\"\n",
    "\n",
    "print(\"训练集目录中的文件和子目录:\")\n",
    "for class_dir in os.listdir(cat_dir):\n",
    "   \n",
    "    class_path = os.path.join(cat_dir, class_dir)\n",
    "    if not(os.path.isdir(class_path)):  # 确保是子目录\n",
    "        \n",
    "        for file_name in os.listdir(cat_dir):\n",
    "            target_file = os.path.join(dog_dir, file_name)\n",
    "            source_file = os.path.join(cat_dir, file_name)\n",
    "    \n",
    "            # 检查是否是文件并且文件名以指定前缀开头\n",
    "            if os.path.isfile(source_file) and file_name.startswith(prefix2):\n",
    "                # 将文件移动到目标文件夹\n",
    "                shutil.move(source_file, target_file)\n",
    "                print(f\"已移动: {source_file} -> {target_file}\")\n",
    "\n",
    "\n",
    "\n",
    "print(\"NumPy 版本:\", np.__version__)"
   ]
  },
  {
   "cell_type": "code",
   "execution_count": 4,
   "id": "cc0ef57c",
   "metadata": {},
   "outputs": [
    {
     "name": "stdout",
     "output_type": "stream",
     "text": [
      "Epoch 1/8\n",
      "782/782 [==============================] - 934s 1s/step - loss: 0.6567 - accuracy: 0.6050 - val_loss: 0.5689 - val_accuracy: 0.7036\n",
      "Epoch 2/8\n",
      "782/782 [==============================] - 856s 1s/step - loss: 0.5871 - accuracy: 0.6889 - val_loss: 0.5115 - val_accuracy: 0.7521\n",
      "Epoch 3/8\n",
      "782/782 [==============================] - 848s 1s/step - loss: 0.5517 - accuracy: 0.7169 - val_loss: 0.4662 - val_accuracy: 0.7766\n",
      "Epoch 4/8\n",
      "782/782 [==============================] - 847s 1s/step - loss: 0.5259 - accuracy: 0.7380 - val_loss: 0.4409 - val_accuracy: 0.7961\n",
      "Epoch 5/8\n",
      "782/782 [==============================] - 852s 1s/step - loss: 0.5073 - accuracy: 0.7527 - val_loss: 0.4658 - val_accuracy: 0.7778\n",
      "Epoch 6/8\n",
      "782/782 [==============================] - 846s 1s/step - loss: 0.4907 - accuracy: 0.7639 - val_loss: 0.4356 - val_accuracy: 0.7970\n",
      "Epoch 7/8\n",
      "782/782 [==============================] - 855s 1s/step - loss: 0.4644 - accuracy: 0.7786 - val_loss: 0.3775 - val_accuracy: 0.8300\n",
      "Epoch 8/8\n",
      "782/782 [==============================] - 846s 1s/step - loss: 0.4473 - accuracy: 0.7924 - val_loss: 0.3617 - val_accuracy: 0.8387\n",
      "782/782 [==============================] - 177s 226ms/step - loss: 0.3617 - accuracy: 0.8387\n",
      "验证集损失: 0.3616684675216675\n",
      "验证集准确率: 0.8387200236320496\n"
     ]
    }
   ],
   "source": [
    "\n",
    "from keras.models import load_model\n",
    "import scipy\n",
    "from keras.models import Sequential\n",
    "from keras.layers import Conv2D, MaxPooling2D, Flatten, Dense, Dropout\n",
    "from keras.callbacks import ModelCheckpoint\n",
    "# 构建模型\n",
    "model = Sequential([\n",
    "    Conv2D(32, (3, 3), activation='relu', input_shape=(150, 150, 3)),  # 卷积层\n",
    "    MaxPooling2D(2, 2),  # 最大池化层\n",
    "    Conv2D(64, (3, 3), activation='relu'),  # 卷积层\n",
    "    MaxPooling2D(2, 2),  # 最大池化层\n",
    "    Conv2D(128, (3, 3), activation='relu'),  # 卷积层\n",
    "    MaxPooling2D(2, 2),  # 最大池化层\n",
    "    Flatten(),  # 展平层\n",
    "    Dense(512, activation='relu'),  # 全连接层\n",
    "    Dropout(0.5),  # Dropout 防止过拟合\n",
    "    Dense(1, activation='sigmoid')  # 输出层（二分类）\n",
    "])\n",
    "checkpoint = ModelCheckpoint(\n",
    "    'C:/Users/86138/Shenjin_network/models/cat_dog_classifier_checkpoint.h5',  # 保存的文件名\n",
    "    save_best_only=True,  # 仅保存验证集性能最好的模型\n",
    "    monitor='val_loss',  # 监控验证集损失\n",
    "    mode='min'  # 当验证集损失减少时保存模型\n",
    ")\n",
    "model.compile(\n",
    "     loss='binary_crossentropy',  # 二分类问题的损失函数\n",
    "     optimizer='adam',  # 优化器\n",
    "     metrics=['accuracy']  # 评估指标\n",
    " )\n",
    "history = model.fit(\n",
    "     train_generator,  # 训练集生成器\n",
    "     epochs=8,  # 训练轮数\n",
    "     validation_data=validation_generator ,\n",
    "     callbacks=[checkpoint] # 验证集生成器\n",
    "    )\n",
    "\n",
    "\n",
    "loss, accuracy = model.evaluate(validation_generator)\n",
    "print(f\"验证集损失: {loss}\")\n",
    "print(f\"验证集准确率: {accuracy}\")\n",
    "model.save('cat_dog_classifier_checkpoint.h5')  # 保存模型)\n"
   ]
  },
  {
   "cell_type": "code",
   "execution_count": 18,
   "id": "44660769",
   "metadata": {},
   "outputs": [],
   "source": [
    "os.makedirs('C:/Users/86138/Shenjin_network/models', exist_ok=True)"
   ]
  },
  {
   "cell_type": "code",
   "execution_count": 3,
   "id": "746cf1e5",
   "metadata": {},
   "outputs": [
    {
     "name": "stdout",
     "output_type": "stream",
     "text": [
      "1/1 [==============================] - 1s 504ms/step\n",
      "预测结果: 狗\n"
     ]
    }
   ],
   "source": [
    "# 或者用于预测——————————————————————————————————————\n",
    "import numpy as np\n",
    "from keras.utils import load_img, img_to_array\n",
    "\n",
    "# 确保模型已加载\n",
    "if 'model' not in globals():\n",
    "\tfrom keras.models import load_model\n",
    "\tmodel = load_model('cat_dog_classifier_checkpoint.h5')\n",
    "\n",
    "img_path = 'C:\\\\Users\\\\86138\\\\Shenjin_network\\\\photo\\\\test1\\\\test1\\\\1.jpg'  # 替换为实际图片路径\n",
    "img = load_img(img_path, target_size=(150, 150))\n",
    "img_array = img_to_array(img) / 255.0\n",
    "img_array = np.expand_dims(img_array, axis=0)\n",
    "\n",
    "prediction = model.predict(img_array)\n",
    "print(\"预测结果:\", \"狗\" if prediction[0][0] > 0.5 else \"猫\") "
   ]
  },
  {
   "cell_type": "code",
   "execution_count": 15,
   "id": "cd81a51d",
   "metadata": {},
   "outputs": [],
   "source": [
    "import os\n",
    "\n",
    "if not os.path.exists('cat_dog_classifier_checkpoint.h5'):\n",
    "    print(\"文件不存在: cat_dog_classifier_checkpoint.h5\")\n",
    "else:\n",
    "    print(\"文件存在: cat_dog_classifier_checkpoint.h5\")"
   ]
  },
  {
   "cell_type": "code",
   "execution_count": 24,
   "id": "f7aa0319",
   "metadata": {},
   "outputs": [],
   "source": [
    "import PIL\n",
    "\n",
    "%pip install scipy\n",
    "print(scipy.__version__)\n",
    "print(PIL.__version__)"
   ]
  },
  {
   "cell_type": "code",
   "execution_count": null,
   "id": "a15a4973",
   "metadata": {},
   "outputs": [],
   "source": [
    "import matplotlib.pyplot as plt\n",
    "    \n",
    "# 绘制训练和验证的损失曲线\n",
    "plt.plot(history.history['loss'], label='训练损失')\n",
    "plt.plot(history.history['val_loss'], label='验证损失')\n",
    "plt.legend()\n",
    "plt.title('损失曲线')\n",
    "plt.show()\n",
    "\n",
    "# 绘制训练和验证的准确率曲线\n",
    "plt.plot(history.history['accuracy'], label='训练准确率')\n",
    "plt.plot(history.history['val_accuracy'], label='验证准确率')\n",
    "plt.legend()\n",
    "plt.title('准确率曲线')\n",
    "plt.show()"
   ]
  }
 ],
 "metadata": {
  "kernelspec": {
   "display_name": "Python 3 (ipykernel)",
   "language": "python",
   "name": "python3"
  },
  "language_info": {
   "codemirror_mode": {
    "name": "ipython",
    "version": 3
   },
   "file_extension": ".py",
   "mimetype": "text/x-python",
   "name": "python",
   "nbconvert_exporter": "python",
   "pygments_lexer": "ipython3",
   "version": "3.8.20"
  }
 },
 "nbformat": 4,
 "nbformat_minor": 5
}
